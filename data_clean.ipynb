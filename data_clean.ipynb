{
  "metadata": {
    "kernelspec": {
      "display_name": "Python 3",
      "name": "python3"
    },
    "language_info": {
      "name": "python",
      "version": "3.11.11",
      "mimetype": "text/x-python",
      "codemirror_mode": {
        "name": "ipython",
        "version": 3
      },
      "pygments_lexer": "ipython3",
      "nbconvert_exporter": "python",
      "file_extension": ".py"
    },
    "kaggle": {
      "accelerator": "nvidiaTeslaT4",
      "dataSources": [
        {
          "sourceId": 914551,
          "sourceType": "datasetVersion",
          "datasetId": 491586
        }
      ],
      "dockerImageVersionId": 31011,
      "isInternetEnabled": true,
      "language": "python",
      "sourceType": "notebook",
      "isGpuEnabled": true
    },
    "colab": {
      "provenance": [],
      "gpuType": "V28"
    },
    "accelerator": "TPU"
  },
  "nbformat_minor": 0,
  "nbformat": 4,
  "cells": [
    {
      "cell_type": "code",
      "source": [
        "from google.colab import drive\n",
        "drive.mount('/content/drive')"
      ],
      "metadata": {
        "id": "5WkKveU8oobR"
      },
      "execution_count": null,
      "outputs": []
    },
    {
      "cell_type": "markdown",
      "source": [
        "Hugging face login with token\n"
      ],
      "metadata": {
        "id": "2JrVffWd--pZ"
      }
    },
    {
      "cell_type": "code",
      "source": [
        "from huggingface_hub import login\n",
        "login()"
      ],
      "metadata": {
        "id": "J7JaR3kFqgzh"
      },
      "execution_count": null,
      "outputs": []
    },
    {
      "cell_type": "markdown",
      "source": [
        "Unzip"
      ],
      "metadata": {
        "id": "cs8IaaG2_DqN"
      }
    },
    {
      "cell_type": "code",
      "source": [
        "\n",
        "import zipfile\n",
        "import os\n",
        "\n",
        "def unzip_folder(zip_file_path, extract_path):\n",
        "  \"\"\"Unzips a zip file to a specified location.\n",
        "\n",
        "  Args:\n",
        "    zip_file_path: The path to the zip file.\n",
        "    extract_path: The directory to extract the zip file contents to.\n",
        "  \"\"\"\n",
        "  try:\n",
        "    with zipfile.ZipFile(zip_file_path, 'r') as zip_ref:\n",
        "      zip_ref.extractall(extract_path)\n",
        "    print(f\"Successfully unzipped '{zip_file_path}' to '{extract_path}'\")\n",
        "  except FileNotFoundError:\n",
        "    print(f\"Error: Zip file '{zip_file_path}' not found.\")\n",
        "  except zipfile.BadZipFile:\n",
        "    print(f\"Error: '{zip_file_path}' is not a valid zip file.\")\n",
        "  except Exception as e:\n",
        "    print(f\"An unexpected error occurred: {e}\")\n",
        "\n",
        "\n",
        "zip_file = \"/content/drive/MyDrive/archive.zip\"\n",
        "extract_dir = \"/content/drive/MyDrive/Spider\"\n",
        "\n",
        "os.makedirs(extract_dir, exist_ok=True)\n",
        "\n",
        "unzip_folder(zip_file, extract_dir)\n"
      ],
      "metadata": {
        "id": "hvIrvhORoXJZ"
      },
      "execution_count": null,
      "outputs": []
    },
    {
      "cell_type": "code",
      "source": [
        "import pandas as pd"
      ],
      "metadata": {
        "trusted": true,
        "execution": {
          "iopub.status.busy": "2025-04-22T17:41:36.067876Z",
          "iopub.execute_input": "2025-04-22T17:41:36.068696Z",
          "iopub.status.idle": "2025-04-22T17:41:37.355918Z",
          "shell.execute_reply.started": "2025-04-22T17:41:36.068667Z",
          "shell.execute_reply": "2025-04-22T17:41:37.355340Z"
        },
        "id": "xUpiLTKfoD6X"
      },
      "outputs": [],
      "execution_count": null
    },
    {
      "cell_type": "code",
      "source": [
        "\n",
        "df1 = pd.read_json(\"/content/drive/MyDrive/Spider/spider/train_spider.json\")\n",
        "\n"
      ],
      "metadata": {
        "_uuid": "8f2839f25d086af736a60e9eeb907d3b93b6e0e5",
        "_cell_guid": "b1076dfc-b9ad-4769-8c92-a6c4dae69d19",
        "trusted": true,
        "execution": {
          "iopub.status.busy": "2025-04-22T17:41:37.356922Z",
          "iopub.execute_input": "2025-04-22T17:41:37.357223Z",
          "iopub.status.idle": "2025-04-22T17:41:38.048478Z",
          "shell.execute_reply.started": "2025-04-22T17:41:37.357204Z",
          "shell.execute_reply": "2025-04-22T17:41:38.047936Z"
        },
        "id": "EimNVYgUoD6c"
      },
      "outputs": [],
      "execution_count": null
    },
    {
      "cell_type": "code",
      "source": [
        "\n",
        "df2 = pd.read_json(\"/content/drive/MyDrive/Spider/spider/train_others.json\")\n",
        "\n"
      ],
      "metadata": {
        "trusted": true,
        "execution": {
          "iopub.status.busy": "2025-04-22T17:41:38.049143Z",
          "iopub.execute_input": "2025-04-22T17:41:38.049335Z",
          "iopub.status.idle": "2025-04-22T17:41:38.202055Z",
          "shell.execute_reply.started": "2025-04-22T17:41:38.049319Z",
          "shell.execute_reply": "2025-04-22T17:41:38.201140Z"
        },
        "id": "mNkA4smkoD6c"
      },
      "outputs": [],
      "execution_count": null
    },
    {
      "cell_type": "code",
      "source": [
        "df = pd.concat([df1, df2], ignore_index=True)"
      ],
      "metadata": {
        "trusted": true,
        "execution": {
          "iopub.status.busy": "2025-04-22T17:41:38.203864Z",
          "iopub.execute_input": "2025-04-22T17:41:38.204139Z",
          "iopub.status.idle": "2025-04-22T17:41:38.213229Z",
          "shell.execute_reply.started": "2025-04-22T17:41:38.204117Z",
          "shell.execute_reply": "2025-04-22T17:41:38.212603Z"
        },
        "id": "xJbzfWvdoD6d"
      },
      "outputs": [],
      "execution_count": null
    },
    {
      "cell_type": "code",
      "source": [
        "len(df)"
      ],
      "metadata": {
        "trusted": true,
        "execution": {
          "iopub.status.busy": "2025-04-22T16:57:31.205717Z",
          "iopub.execute_input": "2025-04-22T16:57:31.206036Z",
          "iopub.status.idle": "2025-04-22T16:57:31.212593Z",
          "shell.execute_reply.started": "2025-04-22T16:57:31.206013Z",
          "shell.execute_reply": "2025-04-22T16:57:31.211193Z"
        },
        "id": "I5CC31ILoD6e"
      },
      "outputs": [],
      "execution_count": null
    },
    {
      "cell_type": "code",
      "source": [
        "df.head(10)"
      ],
      "metadata": {
        "trusted": true,
        "execution": {
          "iopub.status.busy": "2025-04-22T10:09:37.323736Z",
          "iopub.execute_input": "2025-04-22T10:09:37.324075Z",
          "iopub.status.idle": "2025-04-22T10:09:37.366411Z",
          "shell.execute_reply.started": "2025-04-22T10:09:37.324050Z",
          "shell.execute_reply": "2025-04-22T10:09:37.365504Z"
        },
        "id": "LdqoIeagoD6f"
      },
      "outputs": [],
      "execution_count": null
    },
    {
      "cell_type": "code",
      "source": [
        "df.drop(df.columns[[2,3,5,6]], axis=1, inplace=True)"
      ],
      "metadata": {
        "trusted": true,
        "execution": {
          "iopub.status.busy": "2025-04-22T17:41:42.842410Z",
          "iopub.execute_input": "2025-04-22T17:41:42.843146Z",
          "iopub.status.idle": "2025-04-22T17:41:42.858238Z",
          "shell.execute_reply.started": "2025-04-22T17:41:42.843121Z",
          "shell.execute_reply": "2025-04-22T17:41:42.857371Z"
        },
        "id": "TsZYL4pBoD6f"
      },
      "outputs": [],
      "execution_count": null
    },
    {
      "cell_type": "code",
      "source": [
        "df.head(10)"
      ],
      "metadata": {
        "trusted": true,
        "execution": {
          "iopub.status.busy": "2025-04-22T16:58:59.522163Z",
          "iopub.execute_input": "2025-04-22T16:58:59.523075Z",
          "iopub.status.idle": "2025-04-22T16:58:59.545807Z",
          "shell.execute_reply.started": "2025-04-22T16:58:59.523045Z",
          "shell.execute_reply": "2025-04-22T16:58:59.544807Z"
        },
        "id": "-xRRYXYtoD6g"
      },
      "outputs": [],
      "execution_count": null
    },
    {
      "cell_type": "code",
      "source": [
        "\n",
        "from sklearn.model_selection import train_test_split\n",
        "\n",
        "# Assuming 'df' is your DataFrame\n",
        "train_df, temp_df = train_test_split(df, test_size=0.3, random_state=42)\n",
        "val_df, test_df = train_test_split(temp_df, test_size=0.8, random_state=42)\n",
        "\n",
        "\n",
        "print(\"Training set size:\", len(train_df))\n",
        "print(\"Validation set size:\", len(val_df))\n",
        "print(\"Testing set size:\", len(test_df))\n"
      ],
      "metadata": {
        "trusted": true,
        "id": "JjY8mAZVoD6g"
      },
      "outputs": [],
      "execution_count": null
    },
    {
      "cell_type": "code",
      "source": [
        "import os\n",
        "\n",
        "base_directory = '/content/drive/MyDrive/Spider/spider/database'\n",
        "def get_schema_for_db(db_id):\n",
        "\n",
        "    schema_file_path = os.path.join(base_directory, db_id, 'schema.sql')\n",
        "    if os.path.exists(schema_file_path):\n",
        "        with open(schema_file_path, 'r') as file:\n",
        "            for line in file:\n",
        "                if \"CREATE\" in line.upper():\n",
        "                    create_lines.append(line)\n",
        "        return create_lines\n",
        "    else:\n",
        "        return None\n",
        "\n",
        "df['schema'] = df['db_id'].apply(get_schema_for_db)\n"
      ],
      "metadata": {
        "trusted": true,
        "execution": {
          "iopub.status.busy": "2025-04-22T17:41:45.682317Z",
          "iopub.execute_input": "2025-04-22T17:41:45.683132Z",
          "iopub.status.idle": "2025-04-22T17:42:24.121682Z",
          "shell.execute_reply.started": "2025-04-22T17:41:45.683101Z",
          "shell.execute_reply": "2025-04-22T17:42:24.121003Z"
        },
        "id": "CrfKio-BoD6h"
      },
      "outputs": [],
      "execution_count": null
    },
    {
      "cell_type": "code",
      "source": [
        "!pip install datasets"
      ],
      "metadata": {
        "id": "9X8VSnoQ5utq"
      },
      "execution_count": null,
      "outputs": []
    },
    {
      "cell_type": "code",
      "source": [
        "from datasets import Dataset\n",
        "train_dataset = Dataset.from_pandas(train_df)\n",
        "val_dataset = Dataset.from_pandas(val_df)\n",
        "test_dataset = Dataset.from_pandas(test_df)"
      ],
      "metadata": {
        "id": "KjpM-rXr5h8B"
      },
      "execution_count": null,
      "outputs": []
    },
    {
      "cell_type": "code",
      "source": [
        "df = df.reset_index(drop=True)\n"
      ],
      "metadata": {
        "id": "84rY9NXu9zQa"
      },
      "execution_count": null,
      "outputs": []
    },
    {
      "cell_type": "code",
      "source": [
        "from datasets import DatasetDict\n",
        "fin_data=DatasetDict({\n",
        "    \"train\":train_dataset,\n",
        "    \"test\":test_dataset,\n",
        "    \"val\":val_dataset\n",
        "},)"
      ],
      "metadata": {
        "id": "BTJI_uxh7kCa"
      },
      "execution_count": null,
      "outputs": []
    },
    {
      "cell_type": "code",
      "source": [
        "train_dataset[:100]"
      ],
      "metadata": {
        "id": "X0d0v_kQ8soj"
      },
      "execution_count": null,
      "outputs": []
    },
    {
      "cell_type": "code",
      "source": [
        "from google.colab import drive\n",
        "import zipfile\n",
        "import os\n",
        "import pandas as pd\n",
        "from datasets import Dataset\n",
        "from huggingface_hub import HfApi\n",
        "\n",
        "api = HfApi(token=\"repo_token\")\n",
        "\n",
        "api.create_repo(repo_id=\"rakshithjoseph/spider_data\", repo_type=\"dataset\", exist_ok=True)\n",
        "fin_data.push_to_hub(\"rakshithjoseph/spider_data\")\n",
        "\n"
      ],
      "metadata": {
        "id": "dS0QZId2rSyZ"
      },
      "execution_count": null,
      "outputs": []
    }
  ]
}